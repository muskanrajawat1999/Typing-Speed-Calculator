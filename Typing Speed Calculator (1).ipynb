{
 "cells": [
  {
   "cell_type": "code",
   "execution_count": 2,
   "id": "9c4b61dc",
   "metadata": {},
   "outputs": [
    {
     "name": "stdout",
     "output_type": "stream",
     "text": [
      "Defaulting to user installation because normal site-packages is not writeable\n",
      "Collecting TIME-python\n",
      "  Downloading TIME-python-0.0.17.tar.gz (27 kB)\n",
      "  Preparing metadata (setup.py): started\n",
      "  Preparing metadata (setup.py): finished with status 'done'\n",
      "Collecting dipy (from TIME-python)\n",
      "  Obtaining dependency information for dipy from https://files.pythonhosted.org/packages/b6/11/74400ca3f5d636191949b4b0bfd96f4e893be2ab921a45585a8fc824fc2b/dipy-1.8.0-cp311-cp311-win_amd64.whl.metadata\n",
      "  Downloading dipy-1.8.0-cp311-cp311-win_amd64.whl.metadata (8.6 kB)\n",
      "Collecting nibabel (from TIME-python)\n",
      "  Obtaining dependency information for nibabel from https://files.pythonhosted.org/packages/c9/23/8a8cfdc318231f369a13b7d3b5ebc9d67fc9314d62056efdafb371953020/nibabel-5.2.0-py3-none-any.whl.metadata\n",
      "  Downloading nibabel-5.2.0-py3-none-any.whl.metadata (8.8 kB)\n",
      "Requirement already satisfied: numpy in c:\\programdata\\anaconda3\\lib\\site-packages (from TIME-python) (1.24.3)\n",
      "Requirement already satisfied: scipy in c:\\programdata\\anaconda3\\lib\\site-packages (from TIME-python) (1.10.1)\n",
      "Collecting cython!=0.29.29,>=0.29.24 (from dipy->TIME-python)\n",
      "  Obtaining dependency information for cython!=0.29.29,>=0.29.24 from https://files.pythonhosted.org/packages/85/7d/58635941dfbb5b4e197adb88080b9cbfb230dc3b75683698a530a1989bdb/Cython-3.0.8-cp311-cp311-win_amd64.whl.metadata\n",
      "  Downloading Cython-3.0.8-cp311-cp311-win_amd64.whl.metadata (3.2 kB)\n",
      "Requirement already satisfied: h5py>=3.1.0 in c:\\programdata\\anaconda3\\lib\\site-packages (from dipy->TIME-python) (3.7.0)\n",
      "Requirement already satisfied: packaging>=21 in c:\\programdata\\anaconda3\\lib\\site-packages (from dipy->TIME-python) (23.0)\n",
      "Requirement already satisfied: tqdm>=4.30.0 in c:\\programdata\\anaconda3\\lib\\site-packages (from dipy->TIME-python) (4.65.0)\n",
      "Collecting trx-python>=0.2.9 (from dipy->TIME-python)\n",
      "  Obtaining dependency information for trx-python>=0.2.9 from https://files.pythonhosted.org/packages/23/55/1a0953ffa30078aac893bff6b4e5ac2942eb34201f7c4375433f3337540b/trx_python-0.2.9-py3-none-any.whl.metadata\n",
      "  Downloading trx_python-0.2.9-py3-none-any.whl.metadata (2.7 kB)\n",
      "Requirement already satisfied: colorama in c:\\programdata\\anaconda3\\lib\\site-packages (from tqdm>=4.30.0->dipy->TIME-python) (0.4.6)\n",
      "Collecting setuptools-scm (from trx-python>=0.2.9->dipy->TIME-python)\n",
      "  Obtaining dependency information for setuptools-scm from https://files.pythonhosted.org/packages/0e/a3/b9a8b0adfe672bf0df5901707aa929d30a97ee390ba651910186776746d2/setuptools_scm-8.0.4-py3-none-any.whl.metadata\n",
      "  Downloading setuptools_scm-8.0.4-py3-none-any.whl.metadata (6.4 kB)\n",
      "Collecting deepdiff (from trx-python>=0.2.9->dipy->TIME-python)\n",
      "  Obtaining dependency information for deepdiff from https://files.pythonhosted.org/packages/5a/8f/a9d39ec15f40e8169cb134317824ee4618b864b2e4b91a9b310d3ef94729/deepdiff-6.7.1-py3-none-any.whl.metadata\n",
      "  Downloading deepdiff-6.7.1-py3-none-any.whl.metadata (6.1 kB)\n",
      "Collecting ordered-set<4.2.0,>=4.0.2 (from deepdiff->trx-python>=0.2.9->dipy->TIME-python)\n",
      "  Downloading ordered_set-4.1.0-py3-none-any.whl (7.6 kB)\n",
      "Requirement already satisfied: setuptools in c:\\programdata\\anaconda3\\lib\\site-packages (from setuptools-scm->trx-python>=0.2.9->dipy->TIME-python) (68.0.0)\n",
      "Requirement already satisfied: typing-extensions in c:\\programdata\\anaconda3\\lib\\site-packages (from setuptools-scm->trx-python>=0.2.9->dipy->TIME-python) (4.7.1)\n",
      "Downloading dipy-1.8.0-cp311-cp311-win_amd64.whl (8.2 MB)\n",
      "   ---------------------------------------- 0.0/8.2 MB ? eta -:--:--\n",
      "   -- ------------------------------------- 0.5/8.2 MB 11.3 MB/s eta 0:00:01\n",
      "   ----- ---------------------------------- 1.1/8.2 MB 11.7 MB/s eta 0:00:01\n",
      "   -------- ------------------------------- 1.7/8.2 MB 13.2 MB/s eta 0:00:01\n",
      "   ----------- ---------------------------- 2.3/8.2 MB 11.4 MB/s eta 0:00:01\n",
      "   -------------- ------------------------- 2.9/8.2 MB 11.5 MB/s eta 0:00:01\n",
      "   ---------------- ----------------------- 3.4/8.2 MB 12.1 MB/s eta 0:00:01\n",
      "   ------------------- -------------------- 3.9/8.2 MB 11.9 MB/s eta 0:00:01\n",
      "   --------------------- ------------------ 4.4/8.2 MB 11.7 MB/s eta 0:00:01\n",
      "   ------------------------ --------------- 5.0/8.2 MB 11.9 MB/s eta 0:00:01\n",
      "   --------------------------- ------------ 5.6/8.2 MB 11.9 MB/s eta 0:00:01\n",
      "   ------------------------------ --------- 6.1/8.2 MB 11.9 MB/s eta 0:00:01\n",
      "   -------------------------------- ------- 6.7/8.2 MB 11.9 MB/s eta 0:00:01\n",
      "   ----------------------------------- ---- 7.2/8.2 MB 11.9 MB/s eta 0:00:01\n",
      "   -------------------------------------- - 7.8/8.2 MB 11.9 MB/s eta 0:00:01\n",
      "   ---------------------------------------  8.2/8.2 MB 11.8 MB/s eta 0:00:01\n",
      "   ---------------------------------------  8.2/8.2 MB 11.8 MB/s eta 0:00:01\n",
      "   ---------------------------------------- 8.2/8.2 MB 10.6 MB/s eta 0:00:00\n",
      "Downloading nibabel-5.2.0-py3-none-any.whl (3.3 MB)\n",
      "   ---------------------------------------- 0.0/3.3 MB ? eta -:--:--\n",
      "   ------ --------------------------------- 0.6/3.3 MB 18.2 MB/s eta 0:00:01\n",
      "   -------------- ------------------------- 1.2/3.3 MB 14.7 MB/s eta 0:00:01\n",
      "   -------------------- ------------------- 1.7/3.3 MB 13.6 MB/s eta 0:00:01\n",
      "   --------------------------- ------------ 2.3/3.3 MB 13.2 MB/s eta 0:00:01\n",
      "   ---------------------------------- ----- 2.8/3.3 MB 12.8 MB/s eta 0:00:01\n",
      "   ---------------------------------------  3.3/3.3 MB 12.4 MB/s eta 0:00:01\n",
      "   ---------------------------------------- 3.3/3.3 MB 10.5 MB/s eta 0:00:00\n",
      "Downloading Cython-3.0.8-cp311-cp311-win_amd64.whl (2.8 MB)\n",
      "   ---------------------------------------- 0.0/2.8 MB ? eta -:--:--\n",
      "   ------- -------------------------------- 0.6/2.8 MB 17.5 MB/s eta 0:00:01\n",
      "   ---------------- ----------------------- 1.1/2.8 MB 14.3 MB/s eta 0:00:01\n",
      "   ---------------------- ----------------- 1.6/2.8 MB 11.3 MB/s eta 0:00:01\n",
      "   -------------------------------- ------- 2.3/2.8 MB 12.0 MB/s eta 0:00:01\n",
      "   ---------------------------------------  2.8/2.8 MB 12.7 MB/s eta 0:00:01\n",
      "   ---------------------------------------- 2.8/2.8 MB 11.1 MB/s eta 0:00:00\n",
      "Downloading trx_python-0.2.9-py3-none-any.whl (45 kB)\n",
      "   ---------------------------------------- 0.0/45.5 kB ? eta -:--:--\n",
      "   ---------------------------------------- 45.5/45.5 kB 2.4 MB/s eta 0:00:00\n",
      "Downloading deepdiff-6.7.1-py3-none-any.whl (76 kB)\n",
      "   ---------------------------------------- 0.0/76.6 kB ? eta -:--:--\n",
      "   ------------------------------------- -- 71.7/76.6 kB ? eta -:--:--\n",
      "   ---------------------------------------- 76.6/76.6 kB 1.1 MB/s eta 0:00:00\n",
      "Downloading setuptools_scm-8.0.4-py3-none-any.whl (42 kB)\n",
      "   ---------------------------------------- 0.0/42.1 kB ? eta -:--:--\n",
      "   ---------------------------------------- 42.1/42.1 kB 2.0 MB/s eta 0:00:00\n",
      "Building wheels for collected packages: TIME-python\n",
      "  Building wheel for TIME-python (setup.py): started\n",
      "  Building wheel for TIME-python (setup.py): finished with status 'done'\n",
      "  Created wheel for TIME-python: filename=TIME_python-0.0.17-py3-none-any.whl size=27401 sha256=aaa9d69735aa5319e975b0a1e4dfd4ea9501ef2691c6519aaf8c117a4a503fee\n",
      "  Stored in directory: c:\\users\\aman\\appdata\\local\\pip\\cache\\wheels\\64\\af\\a7\\16213d93e705d9b7b27e01d374ac2832c46d7939119ae188cb\n",
      "Successfully built TIME-python\n",
      "Installing collected packages: setuptools-scm, ordered-set, nibabel, cython, deepdiff, trx-python, dipy, TIME-python\n",
      "Successfully installed TIME-python-0.0.17 cython-3.0.8 deepdiff-6.7.1 dipy-1.8.0 nibabel-5.2.0 ordered-set-4.1.0 setuptools-scm-8.0.4 trx-python-0.2.9\n",
      "Note: you may need to restart the kernel to use updated packages.\n"
     ]
    },
    {
     "name": "stderr",
     "output_type": "stream",
     "text": [
      "  WARNING: The scripts nib-conform.exe, nib-convert.exe, nib-dicomfs.exe, nib-diff.exe, nib-ls.exe, nib-nifti-dx.exe, nib-roi.exe, nib-stats.exe, nib-tck2trk.exe, nib-trk2tck.exe and parrec2nii.exe are installed in 'C:\\Users\\Aman\\AppData\\Roaming\\Python\\Python311\\Scripts' which is not on PATH.\n",
      "  Consider adding this directory to PATH or, if you prefer to suppress this warning, use --no-warn-script-location.\n",
      "  WARNING: The scripts cygdb.exe, cython.exe and cythonize.exe are installed in 'C:\\Users\\Aman\\AppData\\Roaming\\Python\\Python311\\Scripts' which is not on PATH.\n",
      "  Consider adding this directory to PATH or, if you prefer to suppress this warning, use --no-warn-script-location.\n",
      "  WARNING: The script deep.exe is installed in 'C:\\Users\\Aman\\AppData\\Roaming\\Python\\Python311\\Scripts' which is not on PATH.\n",
      "  Consider adding this directory to PATH or, if you prefer to suppress this warning, use --no-warn-script-location.\n",
      "  WARNING: The scripts dipy_align_affine.exe, dipy_align_syn.exe, dipy_apply_transform.exe, dipy_buan_lmm.exe, dipy_buan_profiles.exe, dipy_buan_shapes.exe, dipy_bundlewarp.exe, dipy_correct_motion.exe, dipy_denoise_lpca.exe, dipy_denoise_mppca.exe, dipy_denoise_nlmeans.exe, dipy_denoise_patch2self.exe, dipy_evac_plus.exe, dipy_fetch.exe, dipy_fit_csa.exe, dipy_fit_csd.exe, dipy_fit_dki.exe, dipy_fit_dti.exe, dipy_fit_ivim.exe, dipy_fit_mapmri.exe, dipy_gibbs_ringing.exe, dipy_horizon.exe, dipy_info.exe, dipy_labelsbundles.exe, dipy_mask.exe, dipy_median_otsu.exe, dipy_recobundles.exe, dipy_reslice.exe, dipy_slr.exe, dipy_snr_in_cc.exe, dipy_split.exe, dipy_track.exe and dipy_track_pft.exe are installed in 'C:\\Users\\Aman\\AppData\\Roaming\\Python\\Python311\\Scripts' which is not on PATH.\n",
      "  Consider adding this directory to PATH or, if you prefer to suppress this warning, use --no-warn-script-location.\n",
      "ERROR: pip's dependency resolver does not currently take into account all the packages that are installed. This behaviour is the source of the following dependency conflicts.\n",
      "tables 3.8.0 requires blosc2~=2.0.0, which is not installed.\n"
     ]
    }
   ],
   "source": [
    "pip install TIME-python"
   ]
  },
  {
   "cell_type": "code",
   "execution_count": 3,
   "id": "a3edc9bf",
   "metadata": {},
   "outputs": [],
   "source": [
    "import time"
   ]
  },
  {
   "cell_type": "code",
   "execution_count": 4,
   "id": "866edeef",
   "metadata": {},
   "outputs": [],
   "source": [
    "from time import *\n",
    "import random as r"
   ]
  },
  {
   "cell_type": "code",
   "execution_count": 5,
   "id": "9cf5c798",
   "metadata": {},
   "outputs": [
    {
     "name": "stdout",
     "output_type": "stream",
     "text": [
      "\t\t-----------------------------TYPING SPEED CALCULATOR----------------------------------------\n",
      "\n",
      "String - Defaulting to user installation because normal site packages is not writeable\n",
      "\n",
      "Type this - MY NAME IS MUSKAN\n",
      "\n",
      "Speed -  1  word/sec\n",
      "Errors -  76\n"
     ]
    }
   ],
   "source": [
    "def errors(defaultstr,userstr):\n",
    "    error = 0\n",
    "    for k in range(len(defaultstr)):\n",
    "        try:\n",
    "            if defaultstr[k]!=userstr[k]:\n",
    "                error = error +1\n",
    "        except Exception as e:\n",
    "            error = error +1\n",
    "    \n",
    "    return error\n",
    "\n",
    "def timeduration(time_1,time_2,userinput):\n",
    "    time_delay=time_2 - time_1\n",
    "    time_round= round(time_delay,2)\n",
    "    speed = len(userinput)/time_round\n",
    "    speed_r=round(speed)\n",
    "    return speed_r\n",
    "    \n",
    "    \n",
    "teststr=[\"My name is Muskan Rajawat\",\"I am a Data Science student\",\"Defaulting to user installation because normal site packages is not writeable\"]\n",
    "print(\"\\t\\t-----------------------------TYPING SPEED CALCULATOR----------------------------------------\")\n",
    "test1=r.choice(teststr)\n",
    "print(\"\\nString -\",test1)\n",
    "time1=time()\n",
    "usrinput=input(\"\\nType this - \")\n",
    "time2=time()\n",
    "\n",
    "print(\"\\nSpeed - \",timeduration(time1,time2,usrinput),\" word/sec\")\n",
    "print(\"Errors - \",errors(test1,usrinput))"
   ]
  },
  {
   "cell_type": "code",
   "execution_count": null,
   "id": "b9be902f",
   "metadata": {},
   "outputs": [],
   "source": []
  },
  {
   "cell_type": "code",
   "execution_count": null,
   "id": "99aeda29",
   "metadata": {},
   "outputs": [],
   "source": []
  },
  {
   "cell_type": "code",
   "execution_count": null,
   "id": "22300ed3",
   "metadata": {},
   "outputs": [],
   "source": []
  }
 ],
 "metadata": {
  "kernelspec": {
   "display_name": "Python 3 (ipykernel)",
   "language": "python",
   "name": "python3"
  },
  "language_info": {
   "codemirror_mode": {
    "name": "ipython",
    "version": 3
   },
   "file_extension": ".py",
   "mimetype": "text/x-python",
   "name": "python",
   "nbconvert_exporter": "python",
   "pygments_lexer": "ipython3",
   "version": "3.11.4"
  }
 },
 "nbformat": 4,
 "nbformat_minor": 5
}
